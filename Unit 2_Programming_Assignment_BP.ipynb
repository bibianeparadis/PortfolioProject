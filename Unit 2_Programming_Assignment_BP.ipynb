{
 "cells": [
  {
   "cell_type": "markdown",
   "metadata": {
    "id": "y6A7w-PmRZny"
   },
   "source": [
    "# CS304 Assignment #2 Notebook\n",
    "\n",
    "Complete the function exercises below. After each code cell with a partial function definition and a \"TODO\" comment is a series of unit tests. Run the cell and if your function definition passes all the unit tests, the cell will display \"tests passed!\". This does not gaurantee that you \"did everything right\", but not passing the tests *gaurantees* that you did *not* do everything right! Pay attention to the instructions and make sure to meet the expectations for what the function is supposed to do *in general*, not just for the specific test cases. Your instructor may run additional test cases or perform other checks on your code while grading. "
   ]
  },
  {
   "cell_type": "markdown",
   "metadata": {
    "id": "ta0-0tVhS6R9"
   },
   "source": [
    "## Excercise #1\n",
    "Write a function called **rectange_area** that takes the height and width of a rectangle and returns its area."
   ]
  },
  {
   "cell_type": "code",
   "execution_count": 1,
   "metadata": {
    "id": "8VprS6daRY_5"
   },
   "outputs": [
    {
     "name": "stdout",
     "output_type": "stream",
     "text": [
      "tests passed!\n"
     ]
    }
   ],
   "source": [
    "def rectangle_area(height, width):\n",
    "    # TODO: delete the 'pass' statement below and implement this function\n",
    "    return height * width\n",
    "\n",
    "# Unit Tests (do not edit the tests! Alter your function definition to pass them)\n",
    "assert rectangle_area(1, 1) == 1, \"you returned \" + str(rectangle_area(1, 1)) + \" instead of 1\"\n",
    "assert rectangle_area(2, 1) == 2, \"you returned \" + str(rectangle_area(2, 1)) + \" instead of 2\"\n",
    "assert rectangle_area(1, 2) == 2, \"you returned \" + str(rectangle_area(1, 2)) + \" instead of 2\"\n",
    "assert rectangle_area(2, 2) == 4, \"you returned \" + str(rectangle_area(2, 2)) + \" instead of 4\"\n",
    "assert rectangle_area(2, 3) == 6, \"you returned \" + str(rectangle_area(2, 3)) + \" instead of 6\"\n",
    "assert rectangle_area(9, 3) == 27, \"you returned \" + str(rectangle_area(9, 3)) + \" instead of 27\"\n",
    "print(\"tests passed!\")"
   ]
  },
  {
   "cell_type": "markdown",
   "metadata": {
    "id": "zuFV4yRWUWGd"
   },
   "source": [
    "## Exercise #2\n",
    "Write a function called **check_values** that has three paramters: x, y, and z. Every value passed to each of these parameters will be an integer. This function should return True if all three variables sum to a positive number or if at least two of the variables hold positive values. Otherwise this function should return False. "
   ]
  },
  {
   "cell_type": "code",
   "execution_count": 5,
   "metadata": {
    "id": "QTS7q-oQWkYN"
   },
   "outputs": [
    {
     "name": "stdout",
     "output_type": "stream",
     "text": [
      "tests passed!\n"
     ]
    }
   ],
   "source": [
    "def check_values(x, y, z):\n",
    "    # TODO: delete the 'pass' statement below and implement this function\n",
    "    if x + y + z > 0:\n",
    "        return True\n",
    "    \n",
    "    positives = sum(1 for v in (x, y, z) if v > 0)\n",
    "    if positives >= 2:\n",
    "        return True\n",
    "\n",
    "    return False\n",
    "\n",
    "# Unit Tests (do not edit the tests! Alter your function definition to pass them)\n",
    "assert check_values(1, 1, 1), \"this should return True, not False (or any other value)\"\n",
    "assert check_values(1, -1, 1), \"this should return True, not False (or any other value)\"\n",
    "assert check_values(-1, 1, 1), \"this should return True, not False (or any other value)\"\n",
    "assert check_values(-5, 10, 1), \"this should return True, not False (or any other value)\"\n",
    "assert check_values(-50, 10, 1), \"this should return True, not False (or any other value)\"\n",
    "assert not check_values(1, -1, -1), \"this should return False, not True (or any other value)\"\n",
    "assert not check_values(-1, -1, -1), \"this should return True, not False (or any other value)\"\n",
    "assert not check_values(-50, 10, -1), \"this should return True, not False (or any other value)\"\n",
    "print(\"tests passed!\")"
   ]
  },
  {
   "cell_type": "markdown",
   "metadata": {
    "id": "8qPzMVDrUbjx"
   },
   "source": [
    "## Exercise #4\n",
    "Write a function called **decode_word** that has two parameters: a dictionary (with single character keys and single character values) called cipher and a string called word. This function should return a new string with the same number of characters as word, but for every key/value pair in cipher, every character matching the key in word should be replaced with the value. The values in cipher will not show up in the keys for cipher. "
   ]
  },
  {
   "cell_type": "code",
   "execution_count": 6,
   "metadata": {
    "id": "JiES2atbW7tz"
   },
   "outputs": [
    {
     "name": "stdout",
     "output_type": "stream",
     "text": [
      "tests passed!\n"
     ]
    }
   ],
   "source": [
    "def decode_word(cipher, word):\n",
    "    # TODO: delete the 'pass' statement below and implement this function\n",
    "    return ''.join(cipher.get(ch,ch) for ch in word)\n",
    " \n",
    "# Unit Tests (do not edit the tests! Alter your function definition to pass them)\n",
    "assert decode_word({'b': 'n'}, 'banana') == 'nanana', \"you returned \" + str(decode_word({'b': 'n'}, 'banana')) + \" instead of nanana\"\n",
    "assert decode_word({'c': 'm', 'r': 't'}, 'car') == 'mat', \"you returned \" + str(decode_word({'c': 'm', 'r': 't'}, 'car')) + \" instead of mat\"\n",
    "assert decode_word({'n': 'r'}, 'banana') == 'barara', \"you returned \" + str(decode_word({'n': 'r'}, 'banana')) + \" instead of barara\"\n",
    "assert decode_word({'d': 'l', 'a': 'o', 't': 'g'}, 'data') == 'logo', \"you returned \" + str(decode_word({'d': 'l', 'a': 'o', 't': 'g'}, 'data')) + \" instead of logo\"\n",
    "print(\"tests passed!\")"
   ]
  },
  {
   "cell_type": "markdown",
   "metadata": {
    "id": "-9ePFltwUzCD"
   },
   "source": [
    "## Exercise #4\n",
    "\n",
    "Write a function called **list_shift_forward** that should accept a list that contains at least two values as input. It should return a list which is identical to the input list with two exceptions: the last element of the input list should be the first element of the list this function returns, and every other value in the original list should be shifted forward one index in the new list."
   ]
  },
  {
   "cell_type": "code",
   "execution_count": 7,
   "metadata": {
    "id": "j_QhrIO0VhXO"
   },
   "outputs": [
    {
     "name": "stdout",
     "output_type": "stream",
     "text": [
      "tests passed!\n"
     ]
    }
   ],
   "source": [
    "def list_shift_forward(ls):\n",
    "    # TODO: delete the 'pass' statement below and implement this function\n",
    "    return[ls[-1]] + ls[:-1]\n",
    "\n",
    "# Unit Tests (do not edit the tests! Alter your function definition to pass them)\n",
    "assert list_shift_forward([1,2,3]) == [3,1,2], \"you returned \" + str(list_shift_forward([1,2,3])) + \" instead of [3,1,2]\"\n",
    "assert list_shift_forward([1,9]) == [9,1], \"you returned \" + str(list_shift_forward([1,9])) + \" instead of [9,1]\"\n",
    "assert list_shift_forward([9,3,1,1]) == [1,9,3,1], \"you returned \" + str(list_shift_forward([9,3,1,1])) + \" instead of [1,9,3,1]\"\n",
    "assert list_shift_forward(['a','b','c']) == ['c','a','b'], \"you returned \" + str(list_shift_forward(['a','b','c'])) + \" instead of ['c','a','b']\"\n",
    "assert list_shift_forward([19, 'd', 'e', 0]) == [0,19,'d','e'], \"you returned \" + str(list_shift_forward([19, 'd', 'e', 0])) + \" instead of [0,19,'d','e']\"\n",
    "print(\"tests passed!\")"
   ]
  },
  {
   "cell_type": "markdown",
   "metadata": {
    "id": "96Z-1rNOVlKb"
   },
   "source": [
    "## Exercise #5\n",
    "Write a function called **temp_process** that takes a NumPy array of farenheit temperatures and does the following: 1) converts them all to celsius, 2) removes any negative temperatures (at least one input temperature will remain in each example), and 3) returns the average of the remaining temperatures (nearest integer). In addition to these constraints, your solution must also do the following:\n",
    "\n",
    "\n",
    "*   For the first (and possibly also the second) step(s), you must either use NumPy ufuncs, a lambda, map, or a comprehension in a purposeful, non-contrived way. \n",
    "*   For the third step, you must use the reduce method of a ufunc.\n",
    "\n"
   ]
  },
  {
   "cell_type": "code",
   "execution_count": 11,
   "metadata": {
    "id": "FpJMO7sUVkVh"
   },
   "outputs": [
    {
     "name": "stdout",
     "output_type": "stream",
     "text": [
      "tests passed!\n"
     ]
    }
   ],
   "source": [
    "import numpy as np\n",
    "\n",
    "def temp_process(ls):\n",
    "    # TODO: delete the 'pass' statement below and implement this function\n",
    "    celsius = np.multiply(np.subtract(ls, 32), 5/9)\n",
    "\n",
    "    celsius = celsius[celsius >=0]\n",
    "\n",
    "    total = np.add.reduce(celsius)\n",
    "    avg = total /len(celsius)\n",
    "\n",
    "    return int(round(avg))\n",
    "\n",
    "# Unit Tests (do not edit the tests! Alter your function definition to pass them)\n",
    "assert temp_process(np.array([98, 68, 45, 22, 1, 76])) == 22, \"you returned \" + str(temp_process(np.array([98, 68, 45, 22, 1, 76]))) + \" instead of 22\"\n",
    "assert temp_process(np.array([100, 94])) == 36, \"you returned \" + str(temp_process(np.array([100, 94]))) + \" instead of 36\"\n",
    "assert temp_process(np.array([32])) == 0, \"you returned \" + str(temp_process(np.array([32]))) + \" instead of 0\"\n",
    "assert temp_process(np.array([34, 23, 1, 87, 65, 54, 33, 23, 101])) == 17, \"you returned \" + str(temp_process(np.array([34, 23, 1, 87, 65, 54, 33, 23, 101]))) + \" instead of 17\"\n",
    "assert temp_process(np.array([8, 1, 23, 32, 33])) == 0, \"you returned \" + str(temp_process(np.array([8, 1, 23, 32, 33]))) + \" instead of 0\"\n",
    "assert temp_process(np.array([88, 23, 0, 20])) == 31, \"you returned \" + str(temp_process(np.array([88, 23, 0, 20]))) + \" instead of 31\"\n",
    "assert temp_process(np.array([352, 552, 235, 233])) == 173, \"you returned \" + str(temp_process(np.array([352, 552, 235, 233]))) + \" instead of 173\"\n",
    "assert temp_process(np.array([34, 23, 1, 87, -65, 4, 33, 253, 33])) == 31, \"you returned \" + str(temp_process(np.array([34, 23, 1, 87, -65, 4, 33, 253, 33]))) + \" instead of 31\"\n",
    "print(\"tests passed!\")"
   ]
  }
 ],
 "metadata": {
  "colab": {
   "collapsed_sections": [],
   "name": "cs304-a2-template.ipynb",
   "provenance": []
  },
  "kernelspec": {
   "display_name": "Python [conda env:base] *",
   "language": "python",
   "name": "conda-base-py"
  },
  "language_info": {
   "codemirror_mode": {
    "name": "ipython",
    "version": 3
   },
   "file_extension": ".py",
   "mimetype": "text/x-python",
   "name": "python",
   "nbconvert_exporter": "python",
   "pygments_lexer": "ipython3",
   "version": "3.13.5"
  }
 },
 "nbformat": 4,
 "nbformat_minor": 4
}
