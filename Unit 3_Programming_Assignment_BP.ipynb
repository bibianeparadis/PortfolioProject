{
 "cells": [
  {
   "cell_type": "markdown",
   "id": "dfaf4a88-0118-47fd-9bef-ff435caf67d2",
   "metadata": {},
   "source": [
    "# Exercise 1: Chapter Exercises\n",
    "\n",
    "Include code for each exercise you complete for the reading assignment. Use the template provided to you on Google Drive. In a separate code cell, provide code for each of the following questions:\n",
    "\n",
    "1. From section 5.4 of the textbook, solve the following exercises: Q1, Q2, and Q3.\n",
    "2. From section 5.5 of the textbook, solve the following exercises: Q1.\n",
    "3. From section 5.6 of the textbook, solve the  following exercises:\n",
    "Q1"
   ]
  },
  {
   "cell_type": "code",
   "execution_count": 24,
   "id": "fa55ed5c-a159-4187-8c34-792c7bc3a107",
   "metadata": {},
   "outputs": [
    {
     "name": "stdout",
     "output_type": "stream",
     "text": [
      "(7208, 23)\n"
     ]
    }
   ],
   "source": [
    "import pandas as pd\n",
    "import numpy as np\n",
    "df = pd.read_csv(\"C:/Users/bibia/Downloads/movies_metadata.csv\").dropna(axis=1, how='all')\n",
    "df.head()\n",
    "\n",
    "df.shape\n",
    "df.columns\n",
    "\n",
    "#5.4 Q1\n",
    "budget_df = df[df['budget'] > 1_000_000]\n",
    "print(budget_df.shape)\n"
   ]
  },
  {
   "cell_type": "code",
   "execution_count": 25,
   "id": "4295484a-978d-4ee1-8093-8f58277b00b2",
   "metadata": {},
   "outputs": [
    {
     "data": {
      "text/plain": [
       "np.int64(10000000)"
      ]
     },
     "execution_count": 25,
     "metadata": {},
     "output_type": "execute_result"
    }
   ],
   "source": [
    "#5.4 Q2\n",
    "\n",
    "budget_lookup = budget_df.set_index('title')['budget']\n",
    "budget_lookup['Dead Presidents']"
   ]
  },
  {
   "cell_type": "code",
   "execution_count": 26,
   "id": "efe920e3-49ad-4a55-b3ea-ae5cd68f855f",
   "metadata": {},
   "outputs": [
    {
     "name": "stdout",
     "output_type": "stream",
     "text": [
      "933\n"
     ]
    }
   ],
   "source": [
    "#5.4 Q3\n",
    "\n",
    "budget_lookup = budget_lookup.sort_index()\n",
    "budget_lookup_as_and_bs = budget_lookup['A Bag of Hammers':'Byzantium']\n",
    "\n",
    "budget_lookup_as_and_bs.shape\n",
    "print(budget_lookup_as_and_bs.shape[0])"
   ]
  },
  {
   "cell_type": "code",
   "execution_count": 27,
   "id": "179eeb29-f634-4e41-b883-685192a600db",
   "metadata": {},
   "outputs": [
    {
     "data": {
      "text/plain": [
       "31"
      ]
     },
     "execution_count": 27,
     "metadata": {},
     "output_type": "execute_result"
    }
   ],
   "source": [
    "#5.5 Q1\n",
    "\n",
    "df['runtime'] = pd.to_numeric(df['runtime'], errors='coerce')\n",
    "df = df[(df['runtime'] >= 10) & (df['runtime'] <= 180)]\n",
    "time_scheduler = df.set_index('runtime')['title'].sort_index()\n",
    "time_scheduler.loc[154]\n",
    "len(time_scheduler.loc[154])"
   ]
  },
  {
   "cell_type": "code",
   "execution_count": 30,
   "id": "bd2cab7a-d29d-4e1b-9619-24c86b80e1d2",
   "metadata": {},
   "outputs": [
    {
     "name": "stdout",
     "output_type": "stream",
     "text": [
      "178\n"
     ]
    }
   ],
   "source": [
    "#5.6 Q1\n",
    "import pandas as pd\n",
    "df = pd.read_csv(\"C:/Users/bibia/Downloads/movies_metadata.csv\").dropna(axis=1, how='all')\n",
    "\n",
    "df_highly_voted = df[df.vote_count > 20]\n",
    "df_high_rated = df_highly_voted[df_highly_voted.vote_average > 8]\n",
    "print(len(df_high_rated))"
   ]
  },
  {
   "cell_type": "markdown",
   "id": "48ac415c-03a8-41c7-a13b-075d48eccd5a",
   "metadata": {},
   "source": [
    "# Exercise 2: Data Cleaning.\n",
    "1. Select a subframe for this assignment that contains the following columns and in this order: id, title, release_date, original_language, genres, budget, revenue, and runtime. Display the head of the dataframe.\n",
    "2. Compute the number of duplicate rows and display it. Drop duplicate rows from the frame.\n",
    "3. Compute the number of rows with missing values and display the result. Drop all rows with missing values."
   ]
  },
  {
   "cell_type": "code",
   "execution_count": 32,
   "id": "73792817-6fd1-461b-8fc8-be3f91488e89",
   "metadata": {},
   "outputs": [
    {
     "name": "stdout",
     "output_type": "stream",
     "text": [
      "        id                        title release_date original_language  \\\n",
      "0    862.0                    Toy Story   1995-10-30                en   \n",
      "1   8844.0                      Jumanji   1995-12-15                en   \n",
      "2  15602.0             Grumpier Old Men   1995-12-22                en   \n",
      "3  31357.0            Waiting to Exhale   1995-12-22                en   \n",
      "4  11862.0  Father of the Bride Part II   1995-02-10                en   \n",
      "\n",
      "                                              genres    budget      revenue  \\\n",
      "0  [{'id': 16, 'name': 'Animation'}, {'id': 35, '...  30000000  373554033.0   \n",
      "1  [{'id': 12, 'name': 'Adventure'}, {'id': 14, '...  65000000  262797249.0   \n",
      "2  [{'id': 10749, 'name': 'Romance'}, {'id': 35, ...         0          0.0   \n",
      "3  [{'id': 35, 'name': 'Comedy'}, {'id': 18, 'nam...  16000000   81452156.0   \n",
      "4                     [{'id': 35, 'name': 'Comedy'}]         0   76578911.0   \n",
      "\n",
      "   runtime  \n",
      "0     81.0  \n",
      "1    104.0  \n",
      "2    101.0  \n",
      "3    127.0  \n",
      "4    106.0  \n",
      "344\n"
     ]
    }
   ],
   "source": [
    "import pandas as pd\n",
    "df = pd.read_csv(\"C:/Users/bibia/Downloads/movies_metadata.csv\").dropna(axis=1, how='all')\n",
    "\n",
    "cols = ['id', 'title', 'release_date', 'original_language', 'genres', 'budget', 'revenue', 'runtime']\n",
    "df_sub = df[cols]\n",
    "\n",
    "# 1. Print head of the dataframe\n",
    "print(df_sub.head())\n",
    "\n",
    "# 2. Number of duplicate rows\n",
    "df_sub = df_sub.drop_duplicates()\n",
    "\n",
    "# 3. Compute number of rows with missing values\n",
    "num_missing = df_sub.isnull().any(axis=1).sum()\n",
    "print(num_missing)\n",
    "\n",
    "# 3. Drop all rows with missing values\n",
    "df_sub = df_sub.dropna()"
   ]
  },
  {
   "cell_type": "markdown",
   "id": "d53b6ae4-b6e7-4416-9511-ea52e6c4ce63",
   "metadata": {},
   "source": [
    "# Exercise 3: Data Description and Understanding\n",
    "\n",
    "After cleaning the movie data:\n",
    "\n",
    "1. Display the number of unique original languages.\n",
    "2. Compute the profit for each individual movie and add a Profit column to the dataframe.\n",
    "3. Compute and display the mean profit."
   ]
  },
  {
   "cell_type": "code",
   "execution_count": 33,
   "id": "4e19c967-9426-4956-87bf-16a6a3278a58",
   "metadata": {},
   "outputs": [
    {
     "ename": "NameError",
     "evalue": "name 'num_languages' is not defined",
     "output_type": "error",
     "traceback": [
      "\u001b[1;31m---------------------------------------------------------------------------\u001b[0m",
      "\u001b[1;31mNameError\u001b[0m                                 Traceback (most recent call last)",
      "Cell \u001b[1;32mIn[33], line 3\u001b[0m\n\u001b[0;32m      1\u001b[0m \u001b[38;5;66;03m# 1. Display the number of unique original languages\u001b[39;00m\n\u001b[0;32m      2\u001b[0m num_language \u001b[38;5;241m=\u001b[39m df_sub[\u001b[38;5;124m'\u001b[39m\u001b[38;5;124moriginal_language\u001b[39m\u001b[38;5;124m'\u001b[39m]\u001b[38;5;241m.\u001b[39mnunique()\n\u001b[1;32m----> 3\u001b[0m \u001b[38;5;28mprint\u001b[39m(num_languages)\n\u001b[0;32m      5\u001b[0m \u001b[38;5;66;03m# 2. Compute profit\u001b[39;00m\n\u001b[0;32m      6\u001b[0m df_sub[\u001b[38;5;124m'\u001b[39m\u001b[38;5;124mbudget\u001b[39m\u001b[38;5;124m'\u001b[39m] \u001b[38;5;241m=\u001b[39m pd\u001b[38;5;241m.\u001b[39mto_numeric(df_sub[\u001b[38;5;124m'\u001b[39m\u001b[38;5;124mbudget\u001b[39m\u001b[38;5;124m'\u001b[39m])\n",
      "\u001b[1;31mNameError\u001b[0m: name 'num_languages' is not defined"
     ]
    }
   ],
   "source": [
    "# 1. Display the number of unique original languages\n",
    "num_language = df_sub['original_language'].nunique()\n",
    "print(num_languages)\n",
    "\n",
    "# 2. Compute profit\n",
    "df_sub['budget'] = pd.to_numeric(df_sub['budget'])\n",
    "df_sub['revenue'] = pd.to_numeric(df_sub['revenue'])\n",
    "df_sub['Profit'] = df_sub['revenue'] - df_sub['budget']\n",
    "\n",
    "# 3. Display mean profit\n",
    "mean_profit = df_sub['Profit'].mean()\n",
    "print(mean_profit)"
   ]
  },
  {
   "cell_type": "code",
   "execution_count": null,
   "id": "f84ede21-edec-4973-9383-283ecec4893a",
   "metadata": {},
   "outputs": [],
   "source": []
  }
 ],
 "metadata": {
  "kernelspec": {
   "display_name": "Python [conda env:base] *",
   "language": "python",
   "name": "conda-base-py"
  },
  "language_info": {
   "codemirror_mode": {
    "name": "ipython",
    "version": 3
   },
   "file_extension": ".py",
   "mimetype": "text/x-python",
   "name": "python",
   "nbconvert_exporter": "python",
   "pygments_lexer": "ipython3",
   "version": "3.13.5"
  }
 },
 "nbformat": 4,
 "nbformat_minor": 5
}
