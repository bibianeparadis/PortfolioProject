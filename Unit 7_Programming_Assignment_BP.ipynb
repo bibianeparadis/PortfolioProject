{
 "cells": [
  {
   "cell_type": "markdown",
   "metadata": {
    "id": "y6A7w-PmRZny"
   },
   "source": [
    "# CS304 Unit #7 Assignment Notebook\n",
    "\n",
    "Use this notebook to complete the unit #7 homework assignment\n",
    "\n",
    "Student: Bibiane Paradis"
   ]
  },
  {
   "cell_type": "code",
   "execution_count": 21,
   "metadata": {
    "id": "qfEjPHdurOQT"
   },
   "outputs": [],
   "source": [
    "%matplotlib inline\n",
    "\n",
    "import numpy as np\n",
    "import string\n",
    "import pandas as pd\n",
    "import matplotlib\n",
    "import matplotlib.pyplot as plt\n",
    "import psycopg2\n",
    "import seaborn as sbn\n",
    "from altair import Chart, X, Y, Color, Scale\n",
    "import altair as alt\n",
    "from nltk.corpus import stopwords\n",
    "matplotlib.style.use('ggplot')"
   ]
  },
  {
   "cell_type": "code",
   "execution_count": 22,
   "metadata": {
    "id": "z2FFxuYiaZ5S"
   },
   "outputs": [
    {
     "name": "stdout",
     "output_type": "stream",
     "text": [
      "Dataframe shape: (21293, 4)\n"
     ]
    },
    {
     "data": {
      "text/html": [
       "<div>\n",
       "<style scoped>\n",
       "    .dataframe tbody tr th:only-of-type {\n",
       "        vertical-align: middle;\n",
       "    }\n",
       "\n",
       "    .dataframe tbody tr th {\n",
       "        vertical-align: top;\n",
       "    }\n",
       "\n",
       "    .dataframe thead th {\n",
       "        text-align: right;\n",
       "    }\n",
       "</style>\n",
       "<table border=\"1\" class=\"dataframe\">\n",
       "  <thead>\n",
       "    <tr style=\"text-align: right;\">\n",
       "      <th></th>\n",
       "      <th>Date</th>\n",
       "      <th>Time</th>\n",
       "      <th>Transaction</th>\n",
       "      <th>Item</th>\n",
       "    </tr>\n",
       "  </thead>\n",
       "  <tbody>\n",
       "    <tr>\n",
       "      <th>0</th>\n",
       "      <td>2016-10-30</td>\n",
       "      <td>09:58:11</td>\n",
       "      <td>1</td>\n",
       "      <td>Bread</td>\n",
       "    </tr>\n",
       "    <tr>\n",
       "      <th>1</th>\n",
       "      <td>2016-10-30</td>\n",
       "      <td>10:05:34</td>\n",
       "      <td>2</td>\n",
       "      <td>Scandinavian</td>\n",
       "    </tr>\n",
       "    <tr>\n",
       "      <th>2</th>\n",
       "      <td>2016-10-30</td>\n",
       "      <td>10:05:34</td>\n",
       "      <td>2</td>\n",
       "      <td>Scandinavian</td>\n",
       "    </tr>\n",
       "    <tr>\n",
       "      <th>3</th>\n",
       "      <td>2016-10-30</td>\n",
       "      <td>10:07:57</td>\n",
       "      <td>3</td>\n",
       "      <td>Hot chocolate</td>\n",
       "    </tr>\n",
       "    <tr>\n",
       "      <th>4</th>\n",
       "      <td>2016-10-30</td>\n",
       "      <td>10:07:57</td>\n",
       "      <td>3</td>\n",
       "      <td>Jam</td>\n",
       "    </tr>\n",
       "  </tbody>\n",
       "</table>\n",
       "</div>"
      ],
      "text/plain": [
       "         Date      Time  Transaction           Item\n",
       "0  2016-10-30  09:58:11            1          Bread\n",
       "1  2016-10-30  10:05:34            2   Scandinavian\n",
       "2  2016-10-30  10:05:34            2   Scandinavian\n",
       "3  2016-10-30  10:07:57            3  Hot chocolate\n",
       "4  2016-10-30  10:07:57            3            Jam"
      ]
     },
     "execution_count": 22,
     "metadata": {},
     "output_type": "execute_result"
    }
   ],
   "source": [
    "# 1. setup data\n",
    "\n",
    "# original URL: https://www.kaggle.com/datasets/sulmansarwar/transactions-from-a-bakery\n",
    "\n",
    "products = pd.read_csv('BreadBasket_DMS.csv')\n",
    "print(\"Dataframe shape:\", products.shape)\n",
    "products.head()"
   ]
  },
  {
   "cell_type": "code",
   "execution_count": 23,
   "metadata": {
    "id": "xFx19Vz1DnOS"
   },
   "outputs": [
    {
     "name": "stdout",
     "output_type": "stream",
     "text": [
      "Unique item count: 95\n",
      "Rows before cleaning: 21293\n",
      "Row after cleaning: 20507\n",
      "Unique item after cleaning: 94\n"
     ]
    },
    {
     "data": {
      "text/plain": [
       "Item\n",
       "Coffee               5471\n",
       "Bread                3325\n",
       "Tea                  1435\n",
       "Cake                 1025\n",
       "Pastry                856\n",
       "Sandwich              771\n",
       "Medialuna             616\n",
       "Hot chocolate         590\n",
       "Cookies               540\n",
       "Brownie               379\n",
       "Farm House            374\n",
       "Muffin                370\n",
       "Alfajores             369\n",
       "Juice                 369\n",
       "Soup                  342\n",
       "Scone                 327\n",
       "Toast                 318\n",
       "Scandinavian          277\n",
       "Truffles              193\n",
       "Coke                  185\n",
       "Spanish Brunch        172\n",
       "Fudge                 159\n",
       "Baguette              152\n",
       "Jam                   149\n",
       "Tiffin                146\n",
       "Mineral water         136\n",
       "Jammie Dodgers        125\n",
       "Chicken Stew          123\n",
       "Hearty & Seasonal     107\n",
       "Salad                  99\n",
       "Name: count, dtype: int64"
      ]
     },
     "execution_count": 23,
     "metadata": {},
     "output_type": "execute_result"
    }
   ],
   "source": [
    "# 2. clean data (look at all values, determine what should be removed and remove it)\n",
    "\n",
    "# hint: https://pandas.pydata.org/docs/reference/api/pandas.Series.unique.html\n",
    "\n",
    "# -- find unique item values and counts -- \n",
    "item_counts = products['Item'].value_counts(dropna=False)\n",
    "print(\"Unique item count:\", len(item_counts))\n",
    "item_counts.head(40) #shows the top 40 unique values\n",
    "\n",
    "# -- remove bad value rows -- \n",
    "bad_values = ['NONE', '', '0', 'NULL'] #removes items that have 'NONE'\n",
    "products['Item'] = products['Item'].astype(str).str.strip() # standardize whitespace and casesaftey\n",
    "\n",
    "mask_bad = products['Item'].isin(bad_values) | products['Item'].str.lower().isin([str(x).lower() for x in bad_values])\n",
    "mask_na = products['Item'].isnull() | (products['Item']=='nan')\n",
    "\n",
    "print(\"Rows before cleaning:\", len(products))\n",
    "products_clean = products.loc[~(mask_bad | mask_na)].copy()\n",
    "print(\"Row after cleaning:\", len(products_clean))\n",
    "\n",
    "#shows the unique items now\n",
    "print(\"Unique item after cleaning:\", products_clean['Item'].nunique())\n",
    "products_clean['Item'].value_counts().head(30)"
   ]
  },
  {
   "cell_type": "code",
   "execution_count": 24,
   "metadata": {
    "id": "qr3kBwCVhuDD"
   },
   "outputs": [
    {
     "name": "stdout",
     "output_type": "stream",
     "text": [
      "Number of transaction: 9465\n",
      "Number of distinct items: 94\n",
      "co-occurrence matrix shape: (94, 94)\n"
     ]
    },
    {
     "data": {
      "text/html": [
       "<div>\n",
       "<style scoped>\n",
       "    .dataframe tbody tr th:only-of-type {\n",
       "        vertical-align: middle;\n",
       "    }\n",
       "\n",
       "    .dataframe tbody tr th {\n",
       "        vertical-align: top;\n",
       "    }\n",
       "\n",
       "    .dataframe thead th {\n",
       "        text-align: right;\n",
       "    }\n",
       "</style>\n",
       "<table border=\"1\" class=\"dataframe\">\n",
       "  <thead>\n",
       "    <tr style=\"text-align: right;\">\n",
       "      <th></th>\n",
       "      <th>Adjustment</th>\n",
       "      <th>Afternoon with the baker</th>\n",
       "      <th>Alfajores</th>\n",
       "      <th>Argentina Night</th>\n",
       "      <th>Art Tray</th>\n",
       "      <th>Bacon</th>\n",
       "    </tr>\n",
       "  </thead>\n",
       "  <tbody>\n",
       "    <tr>\n",
       "      <th>Adjustment</th>\n",
       "      <td>NaN</td>\n",
       "      <td>0.0</td>\n",
       "      <td>0.0</td>\n",
       "      <td>0.0</td>\n",
       "      <td>0.0</td>\n",
       "      <td>0.0</td>\n",
       "    </tr>\n",
       "    <tr>\n",
       "      <th>Afternoon with the baker</th>\n",
       "      <td>0.0</td>\n",
       "      <td>NaN</td>\n",
       "      <td>0.0</td>\n",
       "      <td>2.0</td>\n",
       "      <td>0.0</td>\n",
       "      <td>0.0</td>\n",
       "    </tr>\n",
       "    <tr>\n",
       "      <th>Alfajores</th>\n",
       "      <td>0.0</td>\n",
       "      <td>0.0</td>\n",
       "      <td>NaN</td>\n",
       "      <td>0.0</td>\n",
       "      <td>3.0</td>\n",
       "      <td>0.0</td>\n",
       "    </tr>\n",
       "    <tr>\n",
       "      <th>Argentina Night</th>\n",
       "      <td>0.0</td>\n",
       "      <td>2.0</td>\n",
       "      <td>0.0</td>\n",
       "      <td>NaN</td>\n",
       "      <td>0.0</td>\n",
       "      <td>0.0</td>\n",
       "    </tr>\n",
       "    <tr>\n",
       "      <th>Art Tray</th>\n",
       "      <td>0.0</td>\n",
       "      <td>0.0</td>\n",
       "      <td>3.0</td>\n",
       "      <td>0.0</td>\n",
       "      <td>NaN</td>\n",
       "      <td>1.0</td>\n",
       "    </tr>\n",
       "    <tr>\n",
       "      <th>Bacon</th>\n",
       "      <td>0.0</td>\n",
       "      <td>0.0</td>\n",
       "      <td>0.0</td>\n",
       "      <td>0.0</td>\n",
       "      <td>1.0</td>\n",
       "      <td>NaN</td>\n",
       "    </tr>\n",
       "  </tbody>\n",
       "</table>\n",
       "</div>"
      ],
      "text/plain": [
       "                          Adjustment  Afternoon with the baker  Alfajores  \\\n",
       "Adjustment                       NaN                       0.0        0.0   \n",
       "Afternoon with the baker         0.0                       NaN        0.0   \n",
       "Alfajores                        0.0                       0.0        NaN   \n",
       "Argentina Night                  0.0                       2.0        0.0   \n",
       "Art Tray                         0.0                       0.0        3.0   \n",
       "Bacon                            0.0                       0.0        0.0   \n",
       "\n",
       "                          Argentina Night  Art Tray  Bacon  \n",
       "Adjustment                            0.0       0.0    0.0  \n",
       "Afternoon with the baker              2.0       0.0    0.0  \n",
       "Alfajores                             0.0       3.0    0.0  \n",
       "Argentina Night                       NaN       0.0    0.0  \n",
       "Art Tray                              0.0       NaN    1.0  \n",
       "Bacon                                 0.0       1.0    NaN  "
      ]
     },
     "execution_count": 24,
     "metadata": {},
     "output_type": "execute_result"
    }
   ],
   "source": [
    "#3 develop item-item dictionary\n",
    "\n",
    "#group by the transaction column and collect items per transaction\n",
    "if 'Transaction' in products_clean.columns:\n",
    "    transaction = products_clean.groupby('Transaction')['Item'].apply(list)\n",
    "else:\n",
    "    # if column is named differently, print columns\n",
    "    print(\"Columns found:\", products_clean.columns)\n",
    "    raise KeyError(\"No 'Transaction' column found.\")\n",
    "\n",
    "#convert to a list indexed by transaction id\n",
    "transactions = transaction.sort_index() #ensures deterministic ordering\n",
    "print(\"Number of transaction:\", len(transactions))\n",
    "transactions.head(10)\n",
    "\n",
    "#build an item-item dictonary\n",
    "\n",
    "#sort unique items in list\n",
    "items = sorted(products_clean['Item'].unique())\n",
    "print(\"Number of distinct items:\", len(items))\n",
    "\n",
    "#initialize co-occurence dictionary\n",
    "from collections import defaultdict\n",
    "co = defaultdict(lambda: defaultdict(int))\n",
    "\n",
    "#for each transaction, increment counts for each unordered pairs\n",
    "for trx_items in transactions:\n",
    "    unique_items = sorted(set(trx_items))\n",
    "    for i in range(len(unique_items)):\n",
    "        for j in range(i+1, len(unique_items)):\n",
    "            a = unique_items[i]\n",
    "            b = unique_items[j]\n",
    "            co[a][b] += 1\n",
    "            co[b][a] += 1\n",
    "\n",
    "co_df = pd.DataFrame(index=items, columns=items, dtype=float)\n",
    "for a in items:\n",
    "    for b in items:\n",
    "        if a == b:\n",
    "            co_df.at[a,b] = np.nan\n",
    "        else:\n",
    "            co_df.at[a,b] = co[a].get(b, 0)\n",
    "\n",
    "#verify shape\n",
    "print(\"co-occurrence matrix shape:\", co_df.shape)\n",
    "co_df.iloc[:6, :6]"
   ]
  },
  {
   "cell_type": "code",
   "execution_count": 25,
   "metadata": {
    "id": "xzHUQIUDOTnZ"
   },
   "outputs": [
    {
     "data": {
      "text/html": [
       "<div>\n",
       "<style scoped>\n",
       "    .dataframe tbody tr th:only-of-type {\n",
       "        vertical-align: middle;\n",
       "    }\n",
       "\n",
       "    .dataframe tbody tr th {\n",
       "        vertical-align: top;\n",
       "    }\n",
       "\n",
       "    .dataframe thead th {\n",
       "        text-align: right;\n",
       "    }\n",
       "</style>\n",
       "<table border=\"1\" class=\"dataframe\">\n",
       "  <thead>\n",
       "    <tr style=\"text-align: right;\">\n",
       "      <th></th>\n",
       "      <th>Adjustment</th>\n",
       "      <th>Afternoon with the baker</th>\n",
       "      <th>Alfajores</th>\n",
       "      <th>Argentina Night</th>\n",
       "      <th>Art Tray</th>\n",
       "      <th>Bacon</th>\n",
       "    </tr>\n",
       "  </thead>\n",
       "  <tbody>\n",
       "    <tr>\n",
       "      <th>Adjustment</th>\n",
       "      <td>0</td>\n",
       "      <td>0</td>\n",
       "      <td>0</td>\n",
       "      <td>0</td>\n",
       "      <td>0</td>\n",
       "      <td>0</td>\n",
       "    </tr>\n",
       "    <tr>\n",
       "      <th>Afternoon with the baker</th>\n",
       "      <td>0</td>\n",
       "      <td>0</td>\n",
       "      <td>0</td>\n",
       "      <td>2</td>\n",
       "      <td>0</td>\n",
       "      <td>0</td>\n",
       "    </tr>\n",
       "    <tr>\n",
       "      <th>Alfajores</th>\n",
       "      <td>0</td>\n",
       "      <td>0</td>\n",
       "      <td>0</td>\n",
       "      <td>0</td>\n",
       "      <td>3</td>\n",
       "      <td>0</td>\n",
       "    </tr>\n",
       "    <tr>\n",
       "      <th>Argentina Night</th>\n",
       "      <td>0</td>\n",
       "      <td>2</td>\n",
       "      <td>0</td>\n",
       "      <td>0</td>\n",
       "      <td>0</td>\n",
       "      <td>0</td>\n",
       "    </tr>\n",
       "    <tr>\n",
       "      <th>Art Tray</th>\n",
       "      <td>0</td>\n",
       "      <td>0</td>\n",
       "      <td>3</td>\n",
       "      <td>0</td>\n",
       "      <td>0</td>\n",
       "      <td>1</td>\n",
       "    </tr>\n",
       "    <tr>\n",
       "      <th>Bacon</th>\n",
       "      <td>0</td>\n",
       "      <td>0</td>\n",
       "      <td>0</td>\n",
       "      <td>0</td>\n",
       "      <td>1</td>\n",
       "      <td>0</td>\n",
       "    </tr>\n",
       "  </tbody>\n",
       "</table>\n",
       "</div>"
      ],
      "text/plain": [
       "                          Adjustment  Afternoon with the baker  Alfajores  \\\n",
       "Adjustment                         0                         0          0   \n",
       "Afternoon with the baker           0                         0          0   \n",
       "Alfajores                          0                         0          0   \n",
       "Argentina Night                    0                         2          0   \n",
       "Art Tray                           0                         0          3   \n",
       "Bacon                              0                         0          0   \n",
       "\n",
       "                          Argentina Night  Art Tray  Bacon  \n",
       "Adjustment                              0         0      0  \n",
       "Afternoon with the baker                2         0      0  \n",
       "Alfajores                               0         3      0  \n",
       "Argentina Night                         0         0      0  \n",
       "Art Tray                                0         0      1  \n",
       "Bacon                                   0         1      0  "
      ]
     },
     "execution_count": 25,
     "metadata": {},
     "output_type": "execute_result"
    }
   ],
   "source": [
    "# 4 clean data by replacing na's with 0's\n",
    "\n",
    "co_df_filled = co_df.fillna(0).astype(int)\n",
    "co_df_filled.iloc[:6, :6]\n"
   ]
  },
  {
   "cell_type": "code",
   "execution_count": 33,
   "metadata": {
    "id": "o3RQ0QNbjGfr"
   },
   "outputs": [
    {
     "name": "stdout",
     "output_type": "stream",
     "text": [
      "Available items sample (first 40): ['Adjustment', 'Afternoon with the baker', 'Alfajores', 'Argentina Night', 'Art Tray', 'Bacon', 'Baguette', 'Bakewell', 'Bare Popcorn', 'Basket', 'Bowl Nic Pitt', 'Bread', 'Bread Pudding', 'Brioche and salami', 'Brownie', 'Cake', 'Caramel bites', 'Cherry me Dried fruit', 'Chicken Stew', 'Chicken sand', 'Chimichurri Oil', 'Chocolates', 'Christmas common', 'Coffee', 'Coffee granules', 'Coke', 'Cookies', 'Crepes', 'Crisps', 'Drinking chocolate spoons', 'Duck egg', 'Dulce de Leche', 'Eggs', \"Ella's Kitchen Pouches\", 'Empanadas', 'Extra Salami or Feta', 'Fairy Doors', 'Farm House', 'Focaccia', 'Frittata']\n",
      "How many times tea and coffee were bought together: 472\n",
      "Possible vegan/mince names found: ['Vegan Feast', 'Vegan mincepie']\n",
      "The item most often purchased with Vegan Feast is Coffee ( 2 times )\n",
      "The two items most frequently bought together: ('Bread', 'Coffee') with count = 852\n"
     ]
    }
   ],
   "source": [
    "# 5 \n",
    "\n",
    "#helper to get pair counts\n",
    "def pair_count(a,b):\n",
    "    if a not in co_df_filled.index or b not in co_df_filled.columns:\n",
    "        return 0\n",
    "    return int(co_df_filled.at[a,b])\n",
    "\n",
    "#Q1: How many times tea and coffee were bought together?\n",
    "print(\"Available items sample (first 40):\", items[:40])\n",
    "\n",
    "#use exact strings found in items- coffee and tea together\n",
    "tea_name = next((it for it in items if it.lower()=='tea'), None)\n",
    "coffee_name = next((it for it in items if it.lower()=='coffee'), None)\n",
    "\n",
    "if tea_name and coffee_name:\n",
    "    tea_coffee_count = pair_count(tea_name, coffee_name)\n",
    "else:\n",
    "    tea_cofee_count = None\n",
    "print('How many times tea and coffee were bought together:', tea_coffee_count)\n",
    "\n",
    "#Q2: What item was most often purchased with vegan mincepie?\n",
    "\n",
    "#find the exact item string\n",
    "candidates = [it for it in items if 'vegan' in it.lower() or 'mince' in it.lower()]\n",
    "print(\"Possible vegan/mince names found:\", candidates)\n",
    "\n",
    "if candidates:\n",
    "    vm = candidates[0]\n",
    "    # find top co-occurring item for vm\n",
    "    row = co_df_filled.loc[vm].copy()\n",
    "    row_sorted = row.sort_values(ascending=False)\n",
    "    most_with_vm = row_sorted.index[0]\n",
    "    most_with_vm_count = int(row_sorted.iloc[0])\n",
    "    print(\"The item most often purchased with\", vm, \"is\", most_with_vm, \"(\", most_with_vm_count, \"times )\")\n",
    "else:\n",
    "    print(\"No 'vegan mincepie' like item found.\")\n",
    "\n",
    "#Q3: What two items were most frequently bought together?\n",
    "#unstack the upper triangle and find max\n",
    "pairs = []\n",
    "for i, a in enumerate(items):\n",
    "    for j, b in enumerate(items):\n",
    "        if j <= i: \n",
    "            continue  #only consider each unordered pair once\n",
    "        count = int(co_df_filled.at[a,b])\n",
    "        pairs.append(((a,b), count))\n",
    "\n",
    "pairs_sorted = sorted(pairs, key=lambda x: x[1], reverse=True)\n",
    "top_pair, top_count = pairs_sorted[0]\n",
    "print(\"The two items most frequently bought together:\", top_pair, \"with count =\", top_count)\n",
    "\n"
   ]
  },
  {
   "cell_type": "code",
   "execution_count": 34,
   "metadata": {
    "id": "jaRVodvRRWdb"
   },
   "outputs": [
    {
     "data": {
      "image/png": "[encoded data removed]",
      "text/plain": [
       "<Figure size 1000x500 with 1 Axes>"
      ]
     },
     "metadata": {},
     "output_type": "display_data"
    }
   ],
   "source": [
    "# 6a develop histogram of item co-occurances (more than just once)\n",
    "\n",
    "#flatten upper triangle to a 1D list of counts\n",
    "vals = []\n",
    "for i, a in enumerate(items):\n",
    "    for j, b in enumerate(items):\n",
    "        if j <= i: \n",
    "            continue\n",
    "        v = int(co_df_filled.at[a,b])\n",
    "        if v > 0:\n",
    "            vals.append(v)\n",
    "\n",
    "vals = np.array(vals)\n",
    "len(vals), vals.min(), vals.max(), np.mean(vals)\n",
    "\n",
    "#6a\n",
    "vals_gt1 = vals[vals > 1]\n",
    "\n",
    "plt.figure(figsize=(10,5))\n",
    "plt.hist(vals_gt1, bins=30)\n",
    "plt.title('Histogram of item-item co-occurrences (count > 1)')\n",
    "plt.xlabel('Co-occurrence count')\n",
    "plt.ylabel('Number of item pairs')\n",
    "plt.show()"
   ]
  },
  {
   "cell_type": "code",
   "execution_count": 38,
   "metadata": {
    "id": "gIE4-Z2_T-0n"
   },
   "outputs": [
    {
     "data": {
      "image/png": "[encoded data removed]",
      "text/plain": [
       "<Figure size 1000x500 with 1 Axes>"
      ]
     },
     "metadata": {},
     "output_type": "display_data"
    }
   ],
   "source": [
    "# 6b develop histogram of item co-occurances (more than just once) and fewer than 100 times\n",
    "\n",
    "vals_zoom = vals[(vals > 1) & (vals < 100)]\n",
    "\n",
    "plt.figure(figsize=(10,5))\n",
    "plt.hist(vals_zoom, bins=30)\n",
    "plt.title('Histogram of item-item co-occurrences (1 < count < 100)')\n",
    "plt.xlabel('Co-occurrence count')\n",
    "plt.ylabel('Number of item pairs')\n",
    "plt.show()"
   ]
  },
  {
   "cell_type": "code",
   "execution_count": null,
   "metadata": {},
   "outputs": [],
   "source": []
  }
 ],
 "metadata": {
  "colab": {
   "collapsed_sections": [],
   "name": "cs304_a7_template.ipynb",
   "provenance": []
  },
  "kernelspec": {
   "display_name": "Python [conda env:base] *",
   "language": "python",
   "name": "conda-base-py"
  },
  "language_info": {
   "codemirror_mode": {
    "name": "ipython",
    "version": 3
   },
   "file_extension": ".py",
   "mimetype": "text/x-python",
   "name": "python",
   "nbconvert_exporter": "python",
   "pygments_lexer": "ipython3",
   "version": "3.13.5"
  }
 },
 "nbformat": 4,
 "nbformat_minor": 4
}
