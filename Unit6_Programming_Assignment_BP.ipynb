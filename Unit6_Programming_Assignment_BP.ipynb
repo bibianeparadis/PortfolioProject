{
 "cells": [
  {
   "cell_type": "markdown",
   "id": "cbdf771d-4fc0-4d9f-a302-62911c78a54b",
   "metadata": {},
   "source": [
    "## From section 9.11 of the textbook solve the  following exercises:\n",
    "Q1\n",
    "Q2\n",
    "Q3"
   ]
  },
  {
   "cell_type": "code",
   "execution_count": 11,
   "id": "9b01140d-6f83-4463-99e8-9b7f6dbc3def",
   "metadata": {},
   "outputs": [
    {
     "name": "stdout",
     "output_type": "stream",
     "text": [
      "    start_date  duration\n",
      "159 2011-06-09      3889\n"
     ]
    }
   ],
   "source": [
    "#Q-1: Using the data in the bikeshare.db, create a dataframe and resample it to see how many rides occurred on June 9 2011.\n",
    "\n",
    "import pandas as pd\n",
    "\n",
    "#load trip_data from the database\n",
    "trip_data = pd.read_sql_query(\n",
    "    \"SELECT * FROM trip_data\",\n",
    "    'sqlite:///C:/Users/bibia/Downloads/bikeshare.db',\n",
    "    parse_dates=[\"start_date\", \"end_date\"]\n",
    ")\n",
    "\n",
    "#set start_date as the index\n",
    "resamp = trip_data.set_index('start_date')\n",
    "\n",
    "#resample by day and count the number of rides per day\n",
    "daily_counts = resamp.resample('D').count()\n",
    "\n",
    "#reset index to make start_date a column again\n",
    "daily_counts = daily_counts.reset_index()\n",
    "\n",
    "#filter for June 9, 2011\n",
    "rides_june9 = daily_counts[daily_counts['start_date'] == '2011-06-09']\n",
    "\n",
    "print(rides_june9[['start_date', 'duration']])"
   ]
  },
  {
   "cell_type": "code",
   "execution_count": 13,
   "id": "5dcd3f79-f34b-45f1-b1d1-5693d6566b9b",
   "metadata": {},
   "outputs": [
    {
     "name": "stdout",
     "output_type": "stream",
     "text": [
      "     end_date  duration\n",
      "23 2011-06-12     31371\n"
     ]
    }
   ],
   "source": [
    "#Q-2: For the week ending June 12 2011 how many rides were complete?\n",
    "#set start_date as index\n",
    "resamp = trip_data.set_index('end_date')\n",
    "\n",
    "#resample by week and count rides\n",
    "weekly_counts = resamp.resample('W').count().reset_index()\n",
    "\n",
    "#filter for week ending June 12, 2011\n",
    "week_june12 = weekly_counts[weekly_counts['end_date'] == '2011-06-12']\n",
    "\n",
    "print(week_june12[['end_date', 'duration']])"
   ]
  },
  {
   "cell_type": "code",
   "execution_count": 15,
   "id": "c1dd94e0-ce14-4afc-9310-648152fbca3c",
   "metadata": {},
   "outputs": [
    {
     "name": "stdout",
     "output_type": "stream",
     "text": [
      "     end_date     duration\n",
      "23 2011-06-12  1223.829683\n"
     ]
    }
   ],
   "source": [
    "#Q-3: For the week ending June 12, 2011 what was the mean duration of all rides?\n",
    "#make sure duration is numeric\n",
    "trip_data['duration'] = pd.to_numeric(trip_data['duration'], errors='coerce')\n",
    "\n",
    "#set end_date as index\n",
    "resamp = trip_data.set_index('end_date')\n",
    "\n",
    "#resample weekly and compute mean\n",
    "weekly_mean = resamp['duration'].resample('W').mean().reset_index()\n",
    "\n",
    "#filter for week ending June 12, 2011\n",
    "week_june12_mean = weekly_mean[weekly_mean['end_date'] == '2011-06-12']\n",
    "\n",
    "print(week_june12_mean)"
   ]
  },
  {
   "cell_type": "markdown",
   "id": "a03398d5-031b-46a6-bfdf-31955dda4901",
   "metadata": {},
   "source": [
    "## From section 9.12 of the textbook solve the  following exercises:\n",
    "Q1\n",
    "Q2\n",
    "Q3"
   ]
  },
  {
   "cell_type": "code",
   "execution_count": null,
   "id": "62c16c5b-8895-4ffe-9ad1-49c97f443869",
   "metadata": {},
   "outputs": [],
   "source": [
    "#Proof is submitted to the Excel sheet named \"Unit6_ProjectAssignment\"\n",
    "# Q-1: Using a slope of 2.5 and an intercept of 0.5, what is the MSE?\n",
    "288.2\n",
    "\n",
    "# Q-2: Fill in the values Solver found for the slope and intercept \n",
    "slope = 0.976280383\n",
    "intercept= 1.965661408\n",
    "\n",
    "# Q-3: What values do you get for the slope and intercept\n",
    "slope = 0.976293103\n",
    "intercept= 1.965517241"
   ]
  },
  {
   "cell_type": "markdown",
   "id": "5a2cde78-18dc-40f6-9777-14560c0e2cf7",
   "metadata": {},
   "source": [
    "## From section 9.13 of the textbook solve the  following exercises:\n",
    "Q1\n",
    "Q2\n",
    "Q3"
   ]
  },
  {
   "cell_type": "code",
   "execution_count": null,
   "id": "1b8caf14-27c8-42ed-92b6-0f3782b270e3",
   "metadata": {},
   "outputs": [],
   "source": [
    "#Q-1: What is the MSE for the new model?\n",
    "MSE = 1.531325301\n",
    "\n",
    "#Q-2: The coefficient for pizza_diameter is ___, for num_toppings is __, and for bias is ___.\n",
    "pizza_diameter = 1.013553715\n",
    "num_toppings = -0.617459197\n",
    "bias = 2.412640173\n"
   ]
  },
  {
   "cell_type": "code",
   "execution_count": 37,
   "id": "3a8cecea-76af-4495-981e-408ccf82c3a1",
   "metadata": {},
   "outputs": [
    {
     "name": "stdout",
     "output_type": "stream",
     "text": [
      "[13.59375 12.4375  11.28125 13.59375 13.59375]\n",
      "MSE using only toppings: 18.584374999999998\n"
     ]
    }
   ],
   "source": [
    "#Q-3: Build a third model using only the number of toppings. What is the mean squared error of this model?\n",
    "\n",
    "import pandas as pd\n",
    "from sklearn.linear_model import LinearRegression\n",
    "from sklearn.metrics import mean_squared_error\n",
    "\n",
    "# Read the pizza data\n",
    "pdf = pd.read_csv(\"C:/Users/bibia/Downloads/pizza.csv\")\n",
    "\n",
    "#features w/ toppings and price\n",
    "X_toppings = pdf[['toppings']]\n",
    "y = pdf['price']\n",
    "\n",
    "#build model\n",
    "model_toppings = LinearRegression()\n",
    "model_toppings.fit(X_toppings, y)\n",
    "\n",
    "#make predictions\n",
    "predictions = model_toppings.predict(X_toppings)\n",
    "print(predictions)\n",
    "\n",
    "#MSE\n",
    "mse_toppings = mean_squared_error(y, predictions)\n",
    "print(\"MSE using only toppings:\", mse_toppings)"
   ]
  },
  {
   "cell_type": "markdown",
   "id": "b0892934-1998-4906-af1f-971cd6239af0",
   "metadata": {},
   "source": [
    "## From section 9.14 of the textbook solve the  following exercises:\n",
    "Q1\n",
    "Q2"
   ]
  },
  {
   "cell_type": "code",
   "execution_count": 27,
   "id": "7dc8a936-7586-4e48-b1a3-3cd446cb3fdc",
   "metadata": {},
   "outputs": [
    {
     "data": {
      "text/plain": [
       "731"
      ]
     },
     "execution_count": 27,
     "metadata": {},
     "output_type": "execute_result"
    }
   ],
   "source": [
    "import pandas as pd\n",
    "from sklearn.model_selection import train_test_split\n",
    "\n",
    "trips = pd.read_csv(\"https://runestone.academy/ns/books/published/httlads/_static/trip_data.csv\",\n",
    "              parse_dates=['start_date','end_date'])\n",
    "\n",
    "trips = trips.set_index('start_date')\n",
    "trips = trips.resample('D').count()\n",
    "trips = trips[['duration']]\n",
    "trips.columns=['trip_count']\n",
    "trips = trips.reset_index()\n",
    "trips.head()\n",
    "\n",
    "#Q-1: How many days of data do you have in the transformed data set (before the train test split)? \n",
    "len(trips)"
   ]
  },
  {
   "cell_type": "code",
   "execution_count": 23,
   "id": "10fe7468-88c8-4525-b682-912423bf4afe",
   "metadata": {},
   "outputs": [
    {
     "data": {
      "text/plain": [
       "147"
      ]
     },
     "execution_count": 23,
     "metadata": {},
     "output_type": "execute_result"
    }
   ],
   "source": [
    "#Q-2: How many days of data do you have in the test set?\n",
    "len(y_test)"
   ]
  },
  {
   "cell_type": "code",
   "execution_count": 26,
   "id": "755fcf3b-8778-4285-a832-e05531644f97",
   "metadata": {},
   "outputs": [
    {
     "name": "stdout",
     "output_type": "stream",
     "text": [
      "1236.044621386473\n"
     ]
    }
   ],
   "source": [
    "#Q-3: What is the mean absolute error of your predictions?\n",
    "\n",
    "from sklearn.linear_model import LinearRegression\n",
    "from sklearn.metrics import mean_absolute_error\n",
    "\n",
    "X_train_num = (X_train - X_train.min()).dt.days.values.reshape(-1, 1)\n",
    "X_test_num = (X_test - X_train.min()).dt.days.values.reshape(-1, 1)\n",
    "\n",
    "model = LinearRegression()\n",
    "model.fit(X_train_num, y_train)\n",
    "\n",
    "#make predictions\n",
    "y_pred = model.predict(X_test_num)\n",
    "\n",
    "#compute mean absolute error\n",
    "mae = mean_absolute_error(y_test, y_pred)\n",
    "print(mae)"
   ]
  }
 ],
 "metadata": {
  "kernelspec": {
   "display_name": "Python [conda env:base] *",
   "language": "python",
   "name": "conda-base-py"
  },
  "language_info": {
   "codemirror_mode": {
    "name": "ipython",
    "version": 3
   },
   "file_extension": ".py",
   "mimetype": "text/x-python",
   "name": "python",
   "nbconvert_exporter": "python",
   "pygments_lexer": "ipython3",
   "version": "3.13.5"
  }
 },
 "nbformat": 4,
 "nbformat_minor": 5
}
